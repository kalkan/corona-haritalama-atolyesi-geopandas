{
 "cells": [
  {
   "cell_type": "markdown",
   "metadata": {},
   "source": [
    "# COVID-19 Verilerini Python ile Haritalama"
   ]
  },
  {
   "cell_type": "markdown",
   "metadata": {},
   "source": [
    "Kullanacağımız araçlar\n",
    "\n",
    "Anaconda https://www.anaconda.com/distribution/#windows\n",
    "Spyder\n",
    "Jupyter Notebook\n",
    "Github\n",
    "geopandas\n",
    "numpy\n",
    "\n",
    "Spyder bir bilimsel entegre geliştirme ortamıdır.\n",
    "\n",
    "Binder\n",
    "\n",
    "Jupyter Notebook \n",
    "\n",
    "Numpy: NumPy, Python programlama dili için bir kütüphane olup, büyük, çok boyutlu diziler ve matrisler için destek eklerken, bu dizilerde çalışmak için yüksek düzeyli matematiksel işlevlerin geniş bir koleksiyonudur\n",
    "\n",
    "Pandas: Özellikle, sayısal tabloları ve zaman serilerini değiştirmek için veri yapıları ve işlemler sunar\n",
    "\n",
    "Matplotlib, Python programlama dili ve sayısal matematik uzantısı NumPy için bir çizim kütüphanesidir.\n",
    "\n",
    "Some videos to watch\n",
    "https://www.youtube.com/watch?v=wsSEKm-rU6U\n",
    "https://www.youtube.com/watch?v=cxLht5KN3pQ\n"
   ]
  },
  {
   "cell_type": "markdown",
   "metadata": {},
   "source": [
    "## Geopandas\n",
    " \n",
    "packages used in geopandas\n",
    "Adding geospatial abilities to python\n",
    "panda - data analysis library, python excel\n",
    "\n",
    "shapely - geometric shapes library (based on geos)\n",
    "fiona - reading writing geo (based on ogr)\n",
    "\n",
    "pyproj - projections (based on proj4)\n",
    "\n",
    "descartes- mapping visualizations \n",
    "matplotlib - visualisation library\n",
    "geopy - geocoding\n",
    "rtree - spatial analysis, simple, inside polygon neighboorhod something like that\n",
    "pysal - spatial analysis functions, advanced, coloring maps\n",
    "numpy - math library\n"
   ]
  },
  {
   "cell_type": "markdown",
   "metadata": {},
   "source": [
    "## Kutuphaneleri Yükleme"
   ]
  },
  {
   "cell_type": "code",
   "execution_count": 2,
   "metadata": {},
   "outputs": [],
   "source": [
    "#ürettiğimiz figürlerin notebook içinde kalması için\n",
    "%matplotlib inline\n",
    "\n",
    "import pandas as pd\n",
    "import geopandas as gpd\n",
    "import requests"
   ]
  },
  {
   "cell_type": "code",
   "execution_count": 4,
   "metadata": {},
   "outputs": [],
   "source": [
    "html_string = 'https://www.worldometers.info/coronavirus/'\n",
    "r = requests.get(html_string)\n",
    "data = pd.read_html(r.text)\n",
    "data = data[0]"
   ]
  },
  {
   "cell_type": "code",
   "execution_count": null,
   "metadata": {},
   "outputs": [],
   "source": [
    "data_cases = data[['Country,Other', 'TotalCases', 'TotalDeaths']]\n",
    "# https://hub.arcgis.com/datasets/a21fdb46d23e4ef896f31475217cbb08_1?geometry=-80.859%2C-89.944%2C75.234%2C48.630\n",
    "world_data = gpd.read_file(r'C:\\Users\\uzayuzal\\Documents\\GitHub\\mapping-coronavirus\\world.shp')\n",
    "\n",
    "world_data.plot()"
   ]
  },
  {
   "cell_type": "code",
   "execution_count": null,
   "metadata": {},
   "outputs": [],
   "source": [
    "world_data_list = world_data['CNTRY_NAME'].tolist()\n",
    "data_cases_list = data_cases['Country,Other'].tolist()\n",
    "\n",
    "world_data_list.sort()\n",
    "data_cases_list.sort()\n",
    "\n",
    "for ulkeler in data_cases_list:\n",
    "    if ulkeler in world_data_list:\n",
    "        pass\n",
    "    else:\n",
    "        print(ulkeler + ' shape dosyasinda yok')\n",
    "    \n",
    "world_data.replace('Bahamas, The', 'Bahamas', inplace = True)\n",
    "world_data.replace('Byelarus', 'Belarus', inplace = True)\n",
    "world_data.replace('South Korea', 'S. Korea', inplace = True)\n",
    "world_data.replace('United States', 'USA', inplace = True)\n",
    "world_data.replace('UK.', 'UK', inplace = True)\n",
    "world_data.replace('United Arab Emirates', 'UAE', inplace = True)\n",
    "world_data.replace('Macau', 'Macao', inplace = True)\n",
    "world_data.replace('Macedonia', 'North Macedonia', inplace = True)\n",
    "world_data.replace('Czech Republic', 'Czechia', inplace = True)\n",
    "world_data.replace('Myanmar (Burma)', 'Myanmar', inplace = True)"
   ]
  },
  {
   "cell_type": "code",
   "execution_count": null,
   "metadata": {},
   "outputs": [],
   "source": [
    "data_cases.rename(columns = {'Country,Other': 'CNTRY_NAME'}, inplace = True)\n",
    "\n",
    "combined = world_data.merge(data_cases, on = 'CNTRY_NAME')\n",
    "\n",
    "combined.to_file(r'C:\\Users\\uzayuzal\\Documents\\GitHub\\mapping-coronavirus\\combined.shp')"
   ]
  },
  {
   "cell_type": "code",
   "execution_count": null,
   "metadata": {},
   "outputs": [],
   "source": [
    "ax = combined.plot(figsize=(15, 15), column='TotalCases', scheme='quantiles', legend=True, legend_kwds={'loc': 'lower left'})\n",
    "ax.set_title(\"Coronavirus Cases Worldwide\")\n",
    "\n",
    "\n",
    "import matplotlib.pyplot as plt\n",
    "plt.savefig('covid-map.png')\n"
   ]
  },
  {
   "cell_type": "code",
   "execution_count": null,
   "metadata": {},
   "outputs": [],
   "source": [
    "# gorsellestirme 2\n",
    "\n",
    "ax2 = combined.plot(figsize=(15, 15), column='TotalCases', scheme='fisher_jenks', k=10, legend=True, cmap='YlGn', edgecolor='black', legend_kwds={'loc': 'lower left'})\n",
    "ax.set_title(\"Coronavirus Cases Worldwide (Classified with Fisher Jenks 10 Class\")\n"
   ]
  },
  {
   "cell_type": "code",
   "execution_count": null,
   "metadata": {},
   "outputs": [],
   "source": [
    "# vaka 100000'den fazla olanlar\n",
    "vaka = combined[combined['TotalCases'] > 100000]\n",
    "ax3 = vaka.plot(figsize=(15, 15), column='TotalCases', scheme='fisher_jenks', k=10, legend=True, cmap='YlGn', edgecolor='black', legend_kwds={'loc': 'lower left'})\n",
    "vaka['CNTRY_NAME'].size\n",
    "vaka.apply(lambda x: ax3.annotate(s=x['CNTRY_NAME'], xy=x.geometry.centroid.coords[0], ha='center'),axis=1);"
   ]
  },
  {
   "cell_type": "code",
   "execution_count": null,
   "metadata": {},
   "outputs": [],
   "source": [
    "\n",
    "turkey = combined[combined['CNTRY_NAME'] == 'Turkey']\n",
    "turkey.plot()\n",
    "turkey"
   ]
  },
  {
   "cell_type": "code",
   "execution_count": null,
   "metadata": {},
   "outputs": [],
   "source": []
  },
  {
   "cell_type": "markdown",
   "metadata": {},
   "source": [
    "## Heading 2"
   ]
  },
  {
   "cell_type": "markdown",
   "metadata": {},
   "source": [
    "### Heading 3"
   ]
  },
  {
   "cell_type": "code",
   "execution_count": null,
   "metadata": {},
   "outputs": [],
   "source": []
  }
 ],
 "metadata": {
  "kernelspec": {
   "display_name": "Python 3",
   "language": "python",
   "name": "python3"
  },
  "language_info": {
   "codemirror_mode": {
    "name": "ipython",
    "version": 3
   },
   "file_extension": ".py",
   "mimetype": "text/x-python",
   "name": "python",
   "nbconvert_exporter": "python",
   "pygments_lexer": "ipython3",
   "version": "3.7.3"
  }
 },
 "nbformat": 4,
 "nbformat_minor": 2
}
